{
 "cells": [
  {
   "cell_type": "code",
   "execution_count": 2,
   "metadata": {},
   "outputs": [
    {
     "name": "stdout",
     "output_type": "stream",
     "text": [
      "Hello World...\n"
     ]
    }
   ],
   "source": [
    "print(\"Hello World...\")"
   ]
  },
  {
   "cell_type": "code",
   "execution_count": 3,
   "metadata": {},
   "outputs": [
    {
     "name": "stdout",
     "output_type": "stream",
     "text": [
      "<class 'int'>\n"
     ]
    }
   ],
   "source": [
    "a=1\n",
    "print(type(a))"
   ]
  },
  {
   "cell_type": "code",
   "execution_count": 4,
   "metadata": {},
   "outputs": [
    {
     "name": "stdout",
     "output_type": "stream",
     "text": [
      "1 is answer\n"
     ]
    }
   ],
   "source": [
    "print (a,\"is answer\")"
   ]
  },
  {
   "cell_type": "code",
   "execution_count": 9,
   "metadata": {},
   "outputs": [
    {
     "name": "stdout",
     "output_type": "stream",
     "text": [
      "c is greater\n"
     ]
    }
   ],
   "source": [
    "a=3\n",
    "b=6\n",
    "c=8\n",
    "if a>b:\n",
    "    if a>c:\n",
    "        print(\"a is greater\")\n",
    "    else:\n",
    "        print(\"c is greater\")\n",
    "else:\n",
    "    if b>c:\n",
    "        print(\"b is greater\")\n",
    "    else:\n",
    "        print(\"c is greater\")"
   ]
  },
  {
   "cell_type": "code",
   "execution_count": 16,
   "metadata": {},
   "outputs": [
    {
     "name": "stdout",
     "output_type": "stream",
     "text": [
      "enter your age:10\n",
      "youngster\n"
     ]
    }
   ],
   "source": [
    "a=input(\"enter your age:\")\n",
    "a=int(a)\n",
    "if a<20:\n",
    "    print(\"youngster\")\n",
    "elif a>=20 and a<=45:\n",
    "    print(\"adult\")\n",
    "else:\n",
    "    print(\"old\")"
   ]
  },
  {
   "cell_type": "code",
   "execution_count": 23,
   "metadata": {},
   "outputs": [
    {
     "name": "stdout",
     "output_type": "stream",
     "text": [
      "[]\n",
      "['hii', 10, 20, 0.4]\n",
      "['hello']\n",
      "['hello', 10, 20]\n",
      "[10, 20, 0.4]\n",
      "<class 'list'>\n"
     ]
    }
   ],
   "source": [
    "#this is list\n",
    "\n",
    "fav=[]\n",
    "print(fav)\n",
    "fav2=[\"hii\",10,20,.4]\n",
    "print(fav2)\n",
    "fav.append(\"hello\")\n",
    "print(fav)\n",
    "fav.extend([10,20])\n",
    "print(fav)\n",
    "del fav2[0]\n",
    "print(fav2)\n",
    "print(type(fav2))"
   ]
  },
  {
   "cell_type": "code",
   "execution_count": 29,
   "metadata": {},
   "outputs": [
    {
     "name": "stdout",
     "output_type": "stream",
     "text": [
      "{'color': 'red', 'subject': 'Machin Learning', 'mark': [10, 20]}\n",
      "Machin Learning\n",
      "{'subject': 'Machin Learning', 'mark': [10, 20], 10: 'ml_mark'}\n",
      "<class 'dict'>\n"
     ]
    }
   ],
   "source": [
    "#this is dictionary\n",
    "\n",
    "fav={}\n",
    "fav['color']='red'\n",
    "fav.update({\n",
    "    'subject':'Machin Learning',\n",
    "    'mark':[10,20]\n",
    "})\n",
    "print(fav)\n",
    "fav[10]='ml_mark'\n",
    "del fav['color']\n",
    "print(fav['subject'])\n",
    "print(fav)\n",
    "print(type(fav))"
   ]
  },
  {
   "cell_type": "code",
   "execution_count": 33,
   "metadata": {},
   "outputs": [
    {
     "name": "stdout",
     "output_type": "stream",
     "text": [
      "10\n",
      "[1, 2, 3, 4, 5, 6, 7, 8, 9, 0]\n",
      "[1, 2, 3, 4, 5]\n",
      "[1, 2, 3, 4, 5, 6, 7, 8, 9]\n",
      "[0]\n"
     ]
    }
   ],
   "source": [
    "#list\n",
    "\n",
    "a=[1,2,3,4,5,6,7,8,9,0]\n",
    "print(len(a))\n",
    "print(a[:])\n",
    "print(a[:5])\n",
    "print(a[:-1])\n",
    "print(a[-1:])"
   ]
  },
  {
   "cell_type": "code",
   "execution_count": 46,
   "metadata": {},
   "outputs": [
    {
     "name": "stdout",
     "output_type": "stream",
     "text": [
      "1\n",
      "2\n",
      "3\n",
      "4\n",
      "5\n",
      "6\n",
      "7\n",
      "8\n",
      "9\n",
      "0\n"
     ]
    }
   ],
   "source": [
    "a=[1,2,3,4,5,6,7,8,9,0]\n",
    "for i in a:\n",
    "    print(i)\n"
   ]
  },
  {
   "cell_type": "code",
   "execution_count": 48,
   "metadata": {},
   "outputs": [
    {
     "name": "stdout",
     "output_type": "stream",
     "text": [
      "0\n",
      "1\n",
      "2\n",
      "3\n",
      "**************\n",
      "4\n",
      "5\n",
      "6\n",
      "7\n"
     ]
    }
   ],
   "source": [
    "a=[1,2,3,4,5,6,7,8,9,0]\n",
    "for i in range(4):\n",
    "    print(i)\n",
    "print('**************')\n",
    "for i in range(4,8):\n",
    "    print(i)"
   ]
  },
  {
   "cell_type": "code",
   "execution_count": 64,
   "metadata": {},
   "outputs": [
    {
     "name": "stdout",
     "output_type": "stream",
     "text": [
      "X is: 43\n",
      "Z is: 44\n"
     ]
    }
   ],
   "source": [
    "#function in python\n",
    "\n",
    "def set_x(num):\n",
    "    x=num\n",
    "    print('X is:',x)\n",
    "    return x\n",
    "y=43\n",
    "z=set_x(y)\n",
    "print('Z is:',z+1)"
   ]
  },
  {
   "cell_type": "code",
   "execution_count": 5,
   "metadata": {},
   "outputs": [
    {
     "name": "stdout",
     "output_type": "stream",
     "text": [
      "the sum of 1.5 and 6.3 is 7.8\n"
     ]
    }
   ],
   "source": [
    "#add two number and print answer in form of e.g. \"the sum of 1.5 and 6.3 is 7.8\"\n",
    "\n",
    "print('the sum of 1.5 and 6.3 is',1.5+6.3)"
   ]
  },
  {
   "cell_type": "code",
   "execution_count": null,
   "metadata": {},
   "outputs": [],
   "source": [
    "#find factorial of number by creating fact function\n",
    "\n",
    "def fact(n):\n",
    "    if n==1:\n",
    "        return n\n",
    "    else:\n",
    "        return n*fac(n-1)\n",
    "    \n",
    "a=int(input('enter number:'))\n",
    "if a<0:\n",
    "    print('nagative no')\n",
    "else a==1:\n"
   ]
  },
  {
   "cell_type": "code",
   "execution_count": 2,
   "metadata": {},
   "outputs": [
    {
     "name": "stdout",
     "output_type": "stream",
     "text": [
      "5 times 7 is 35\n",
      "35 is not print\n"
     ]
    }
   ],
   "source": [
    "#prime number\n",
    "\n",
    "num=35\n",
    "falg=0\n",
    "if num>1:\n",
    "    for i in range(2,num):\n",
    "        if(num % i)==0:\n",
    "            print(i,'times',num//i,'is',num)\n",
    "            flag=1\n",
    "            break\n",
    "if flag==1:\n",
    "    print(num,'is not print')\n",
    "else:\n",
    "    print(num,'is prime')"
   ]
  }
 ],
 "metadata": {
  "kernelspec": {
   "display_name": "Python 3",
   "language": "python",
   "name": "python3"
  },
  "language_info": {
   "codemirror_mode": {
    "name": "ipython",
    "version": 3
   },
   "file_extension": ".py",
   "mimetype": "text/x-python",
   "name": "python",
   "nbconvert_exporter": "python",
   "pygments_lexer": "ipython3",
   "version": "3.7.1"
  }
 },
 "nbformat": 4,
 "nbformat_minor": 2
}
